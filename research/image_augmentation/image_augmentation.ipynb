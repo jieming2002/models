{
 "cells": [
  {
   "cell_type": "markdown",
   "metadata": {},
   "source": [
    "# 使用 tensorflow 进行图像数据增广\n",
    "- https://blog.csdn.net/lordofrobots/article/details/77160191\n",
    "- https://blog.csdn.net/medium_hao/article/details/79227056"
   ]
  },
  {
   "cell_type": "code",
   "execution_count": 1,
   "metadata": {},
   "outputs": [
    {
     "name": "stderr",
     "output_type": "stream",
     "text": [
      "d:\\ProgramData\\Anaconda3\\lib\\site-packages\\h5py\\__init__.py:34: FutureWarning: Conversion of the second argument of issubdtype from `float` to `np.floating` is deprecated. In future, it will be treated as `np.float64 == np.dtype(float).type`.\n",
      "  from ._conv import register_converters as _register_converters\n"
     ]
    }
   ],
   "source": [
    "from __future__ import absolute_import\n",
    "from __future__ import division\n",
    "from __future__ import print_function\n",
    "\n",
    "import tensorflow as tf  \n",
    "import numpy as np \n",
    "import random\n",
    "import os\n",
    "import sys\n",
    "import matplotlib.pyplot as plt\n",
    "from PIL import Image \n",
    "from PIL import ImageEnhance"
   ]
  },
  {
   "cell_type": "code",
   "execution_count": 2,
   "metadata": {
    "collapsed": true
   },
   "outputs": [],
   "source": [
    "def distort_color(image, color_ordering=0):  \n",
    "#     print('color_ordering=', color_ordering)\n",
    "    if color_ordering == 0:  \n",
    "        image = tf.image.random_brightness(image, max_delta=0.5)#亮度  \n",
    "        image = tf.image.random_saturation(image, lower=0.2, upper=1.8)#饱和度  \n",
    "        image = tf.image.random_hue(image, max_delta=0.2)#色相  \n",
    "        image = tf.image.random_contrast(image, lower=0.2, upper=1.8)#对比度  \n",
    "    if color_ordering == 1:  \n",
    "        image = tf.image.random_saturation(image, lower=0.2, upper=1.8)#饱和度  \n",
    "        image = tf.image.random_hue(image, max_delta=0.2)#色相  \n",
    "        image = tf.image.random_contrast(image, lower=0.2, upper=1.8)#对比度  \n",
    "        image = tf.image.random_brightness(image, max_delta=0.5)#亮度  \n",
    "    if color_ordering == 2:  \n",
    "        image = tf.image.random_hue(image, max_delta=0.2)#色相  \n",
    "        image = tf.image.random_contrast(image, lower=0.2, upper=1.8)#对比度  \n",
    "        image = tf.image.random_brightness(image, max_delta=0.5)#亮度  \n",
    "        image = tf.image.random_saturation(image, lower=0.2, upper=1.8)#饱和度  \n",
    "    if color_ordering == 3:  \n",
    "        image = tf.image.random_contrast(image, lower=0.2, upper=1.8)#对比度  \n",
    "        image = tf.image.random_brightness(image, max_delta=0.5)#亮度   \n",
    "        image = tf.image.random_saturation(image, lower=0.2, upper=1.8)#饱和度  \n",
    "        image = tf.image.random_hue(image, max_delta=0.2)#色相  \n",
    "    # return image  \n",
    "    # 否则会报错 ValueError: Floating point image RGB values must be in the 0..1 range.\n",
    "    return tf.clip_by_value(image, 0.0, 1.0)  \n",
    "\n",
    "\n",
    "def preprocess_for_train(image, height, width, bbox=None):  \n",
    "    if bbox is None:  \n",
    "        bbox = tf.constant([0.0, 0.0, 1.0, 1.0], dtype=tf.float32, shape=[1, 1, 4])  \n",
    "    if image.dtype != tf.float32:  \n",
    "        image = tf.image.convert_image_dtype(image, dtype=tf.float32)  \n",
    "    \n",
    "#     print('width=', width)\n",
    "    # bbox_begin, bbox_size, _ = tf.image.sample_distorted_bounding_box(tf.shape(image), bounding_boxes=bbox, min_object_covered=0.1)  \n",
    "    # distorted_image = tf.slice(image, bbox_begin, bbox_size)  \n",
    "    # distorted_image = tf.image.resize_images(distorted_image, [height, width], method=np.random.randint(4))  \n",
    "\n",
    "#     distorted_image = tf.image.resize_images(image, [height, width], method=np.random.randint(4))  \n",
    "#     distorted_image = tf.image.random_flip_left_right(distorted_image)  \n",
    "    distorted_image = distort_color(image, np.random.randint(4))  \n",
    "    return distorted_image  \n",
    "\n",
    "\n",
    "def get_filenames(dataset_dir):\n",
    "    \"\"\"Returns a list of filenames\n",
    "    \"\"\"\n",
    "    flower_root = dataset_dir\n",
    "#     print('flower_root=', flower_root)\n",
    "    dirname = os.path.dirname(dataset_dir)\n",
    "    basename = os.path.basename(dataset_dir)\n",
    "    augment_root = os.path.join(dirname, basename+'_aug')\n",
    "#     print('augment_root=', augment_root)\n",
    "    \n",
    "    photo_filenames = []\n",
    "    for filename in os.listdir(flower_root): #根目录\n",
    "        path = os.path.join(flower_root, filename)\n",
    "        # print('path =', path)\n",
    "        if not os.path.isdir(path): #子目录\n",
    "            photo_filenames.append(path)\n",
    "#         break\n",
    "    \n",
    "    return photo_filenames, augment_root\n",
    "\n",
    "\n",
    "def preprocess_each(filenames, aug_max=5):\n",
    "    for i, fname in enumerate(filenames):\n",
    "        with tf.gfile.FastGFile(fname, 'rb') as fimg:\n",
    "            value = fimg.read()\n",
    "            image_data = tf.image.decode_jpeg(value, channels=3) \n",
    "            #对一个图片进行多次增广 1~9 共 9 次，加上原图，训练集总共扩大到原来的 10 倍\n",
    "            for j in range(1, aug_max): \n",
    "                result = preprocess_for_train(image_data, image_data.shape[0], image_data.shape[1])\n",
    "                yield (i, j, fname, result)\n",
    "\n",
    "\n",
    "def get_outputname(augment_root, filename, ix):\n",
    "    basename = os.path.basename(filename)\n",
    "#     print('basename=', basename)\n",
    "    augment_root = '%s%s' % (augment_root, ix)\n",
    "#     print('augment_root=', augment_root)\n",
    "    if not tf.gfile.Exists(augment_root):\n",
    "        tf.gfile.MakeDirs(augment_root)\n",
    "    output_filename = '%s/aug%s_%s' % (augment_root, ix, basename)\n",
    "#     print('output_filename=', output_filename)\n",
    "    return output_filename"
   ]
  },
  {
   "cell_type": "code",
   "execution_count": 3,
   "metadata": {
    "scrolled": true
   },
   "outputs": [
    {
     "name": "stdout",
     "output_type": "stream",
     "text": [
      ">> image_num=5299/10602 aug=4\n"
     ]
    }
   ],
   "source": [
    "dataset_dir = '../../data/train_1w'  \n",
    "filenames, augment_root = get_filenames(dataset_dir)\n",
    "image_num = len(filenames)\n",
    "# print('filenames=', filenames)\n",
    "\n",
    "aug_max = 5 #每张图片增广的副本个数\n",
    "step_size = 100 #处理的图片个数上限，否则内存溢出: aug_max * step_size = 500\n",
    "cur_step = 52  #当前进度 0,1,2 ...\n",
    "index_start = cur_step * step_size\n",
    "index_end = (cur_step + 1) * step_size\n",
    "if index_end > image_num:\n",
    "    index_end = image_num\n",
    "\n",
    "with tf.Session() as sess:  \n",
    "    init = tf.global_variables_initializer()  \n",
    "    sess.run(init)  \n",
    "    \n",
    "    for ix, jx, fname, result in preprocess_each(filenames[index_start:index_end], aug_max): \n",
    "        output_filename = get_outputname(augment_root, fname, jx)\n",
    "        reimg = result.eval()  \n",
    "        # 指定格式 format='JPEG' 否则生成 tfRecord 报错\n",
    "        # 默认格式 PNG 文件太大 \n",
    "        plt.imsave(output_filename, reimg, format='JPEG')\n",
    "        sys.stdout.write('\\r>> image_num=%s/%s aug=%s' % ((index_start+ix), image_num, jx))\n",
    "        sys.stdout.flush()\n",
    "    sys.stdout.write('\\n')\n",
    "    sys.stdout.flush()"
   ]
  },
  {
   "cell_type": "code",
   "execution_count": null,
   "metadata": {
    "collapsed": true
   },
   "outputs": [],
   "source": []
  }
 ],
 "metadata": {
  "kernelspec": {
   "display_name": "Python 3",
   "language": "python",
   "name": "python3"
  },
  "language_info": {
   "codemirror_mode": {
    "name": "ipython",
    "version": 3
   },
   "file_extension": ".py",
   "mimetype": "text/x-python",
   "name": "python",
   "nbconvert_exporter": "python",
   "pygments_lexer": "ipython3",
   "version": "3.6.3"
  }
 },
 "nbformat": 4,
 "nbformat_minor": 2
}
