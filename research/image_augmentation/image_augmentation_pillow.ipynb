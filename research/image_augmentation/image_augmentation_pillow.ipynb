{
 "cells": [
  {
   "cell_type": "markdown",
   "metadata": {},
   "source": [
    "# 使用 pillow 进行图像数据增广\n",
    "使用 tensorflow 自带的函数处理图像数据时，不仅需要使用 session，而且处理速度非常慢。\n",
    "使用 Pillow 库完成这些函数接口，在实际数据处理时就非常快速和方便。\n",
    "- https://blog.csdn.net/lordofrobots/article/details/77160191"
   ]
  },
  {
   "cell_type": "code",
   "execution_count": 51,
   "metadata": {},
   "outputs": [],
   "source": [
    "from PIL import Image\n",
    "from PIL import ImageEnhance\n",
    "from PIL import ImageFilter\n",
    "\n",
    "import numpy as np\n",
    "from random import randint\n",
    "import random\n",
    "import matplotlib.pyplot as plt"
   ]
  },
  {
   "cell_type": "code",
   "execution_count": 30,
   "metadata": {},
   "outputs": [],
   "source": [
    "dataset_dir = '../data/train_b/00c7d278-bdd6-4b5d-8026-81ee033f99f9.jpg'\n",
    "img = Image.open(dataset_dir)\n",
    "# img"
   ]
  },
  {
   "cell_type": "code",
   "execution_count": 24,
   "metadata": {
    "collapsed": true
   },
   "outputs": [],
   "source": [
    "def random_brightness(img, lower = 0.1, upper = 1.9):\n",
    "    ''' 亮度 '''\n",
    "    factor = random.uniform(lower, upper)\n",
    "    img = ImageEnhance.Brightness(img)\n",
    "    img = img.enhance(factor)\n",
    "    return img"
   ]
  },
  {
   "cell_type": "code",
   "execution_count": 38,
   "metadata": {
    "collapsed": true
   },
   "outputs": [],
   "source": [
    "def random_contrast(img, lower = 0.1, upper = 1.9):\n",
    "    ''' 对比度 '''\n",
    "    factor = random.uniform(lower, upper)\n",
    "    img = ImageEnhance.Contrast(img)\n",
    "    img = img.enhance(factor)\n",
    "    return img"
   ]
  },
  {
   "cell_type": "code",
   "execution_count": 36,
   "metadata": {
    "collapsed": true
   },
   "outputs": [],
   "source": [
    "# def random_color(img, lower = 0.1, upper = 1.9):\n",
    "#     factor = random.uniform(lower, upper)\n",
    "#     img = ImageEnhance.Color(img)\n",
    "#     img = img.enhance(factor)\n",
    "#     return img"
   ]
  },
  {
   "cell_type": "code",
   "execution_count": 42,
   "metadata": {
    "collapsed": true
   },
   "outputs": [],
   "source": [
    "def random_Sharpness(img, lower = 0.1, upper = 1.9):\n",
    "    ''' 模糊与锐化 '''\n",
    "    factor = random.uniform(lower, upper)\n",
    "    img = ImageEnhance.Sharpness(img)\n",
    "    img = img.enhance(factor)\n",
    "    return img"
   ]
  },
  {
   "cell_type": "code",
   "execution_count": 57,
   "metadata": {
    "collapsed": true
   },
   "outputs": [],
   "source": [
    "def random_filter(img, lower = 0.1, upper = 1.9):\n",
    "    ''' 图像滤波 '''\n",
    "    factor = random.uniform(lower, upper)\n",
    "#     outF = img.filter(ImageFilter.DETAIL)\n",
    "#     outF = img.filter(ImageFilter.CONTOUR)\n",
    "    outF = img.filter(ImageFilter.FIND_EDGES)\n",
    "#     img = img.enhance(factor)\n",
    "    return outF"
   ]
  },
  {
   "cell_type": "code",
   "execution_count": 58,
   "metadata": {},
   "outputs": [
    {
     "name": "stdout",
     "output_type": "stream",
     "text": [
      "Wall time: 1.16 s\n"
     ]
    }
   ],
   "source": [
    "%%time\n",
    "for i in range(1, 6):\n",
    "    result = random_filter(img)\n",
    "#     result = random_contrast(result)\n",
    "    output_filename = '../data/train_b_aug/random_filter%s.jpg' % i\n",
    "    plt.imsave(output_filename, result)  #这个速度快 "
   ]
  },
  {
   "cell_type": "code",
   "execution_count": null,
   "metadata": {
    "collapsed": true
   },
   "outputs": [],
   "source": []
  }
 ],
 "metadata": {
  "kernelspec": {
   "display_name": "Python 3",
   "language": "python",
   "name": "python3"
  },
  "language_info": {
   "codemirror_mode": {
    "name": "ipython",
    "version": 3
   },
   "file_extension": ".py",
   "mimetype": "text/x-python",
   "name": "python",
   "nbconvert_exporter": "python",
   "pygments_lexer": "ipython3",
   "version": "3.6.3"
  }
 },
 "nbformat": 4,
 "nbformat_minor": 2
}
