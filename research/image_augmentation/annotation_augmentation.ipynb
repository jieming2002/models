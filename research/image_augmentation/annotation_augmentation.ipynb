{
 "cells": [
  {
   "cell_type": "markdown",
   "metadata": {},
   "source": [
    "# 物体检测标签数据增广\n",
    "比如 train_b.csv 生成 train_b_aug.csv"
   ]
  },
  {
   "cell_type": "code",
   "execution_count": 10,
   "metadata": {
    "collapsed": true
   },
   "outputs": [],
   "source": [
    "import pandas as pd"
   ]
  },
  {
   "cell_type": "code",
   "execution_count": 11,
   "metadata": {},
   "outputs": [
    {
     "data": {
      "text/html": [
       "<div>\n",
       "<style>\n",
       "    .dataframe thead tr:only-child th {\n",
       "        text-align: right;\n",
       "    }\n",
       "\n",
       "    .dataframe thead th {\n",
       "        text-align: left;\n",
       "    }\n",
       "\n",
       "    .dataframe tbody tr th {\n",
       "        vertical-align: top;\n",
       "    }\n",
       "</style>\n",
       "<table border=\"1\" class=\"dataframe\">\n",
       "  <thead>\n",
       "    <tr style=\"text-align: right;\">\n",
       "      <th></th>\n",
       "      <th>name</th>\n",
       "      <th>coordinate</th>\n",
       "    </tr>\n",
       "  </thead>\n",
       "  <tbody>\n",
       "    <tr>\n",
       "      <th>0</th>\n",
       "      <td>3333bf6f-57cb-4d90-afe1-636dcd88a255.jpg</td>\n",
       "      <td>498_237_173_172;1049_20_18_82</td>\n",
       "    </tr>\n",
       "    <tr>\n",
       "      <th>1</th>\n",
       "      <td>1eb97c5b-78ef-455b-8c9c-3fc8c33201f9.jpg</td>\n",
       "      <td>438_79_233_285;627_52_114_101;205_191_166_164;...</td>\n",
       "    </tr>\n",
       "    <tr>\n",
       "      <th>2</th>\n",
       "      <td>eeeb4783-6acb-4e83-9adf-fc0d2ee1f74d.jpg</td>\n",
       "      <td>195_266_176_143</td>\n",
       "    </tr>\n",
       "    <tr>\n",
       "      <th>3</th>\n",
       "      <td>98681fd0-656a-4e52-b2cf-77ad5747e51d.jpg</td>\n",
       "      <td>1042_0_27_47;391_12_128_110;292_171_179_183</td>\n",
       "    </tr>\n",
       "    <tr>\n",
       "      <th>4</th>\n",
       "      <td>c8b43dfa-094c-407a-9867-3f351354a755.jpg</td>\n",
       "      <td>281_97_238_322;699_437_248_60</td>\n",
       "    </tr>\n",
       "  </tbody>\n",
       "</table>\n",
       "</div>"
      ],
      "text/plain": [
       "                                       name  \\\n",
       "0  3333bf6f-57cb-4d90-afe1-636dcd88a255.jpg   \n",
       "1  1eb97c5b-78ef-455b-8c9c-3fc8c33201f9.jpg   \n",
       "2  eeeb4783-6acb-4e83-9adf-fc0d2ee1f74d.jpg   \n",
       "3  98681fd0-656a-4e52-b2cf-77ad5747e51d.jpg   \n",
       "4  c8b43dfa-094c-407a-9867-3f351354a755.jpg   \n",
       "\n",
       "                                          coordinate  \n",
       "0                      498_237_173_172;1049_20_18_82  \n",
       "1  438_79_233_285;627_52_114_101;205_191_166_164;...  \n",
       "2                                    195_266_176_143  \n",
       "3        1042_0_27_47;391_12_128_110;292_171_179_183  \n",
       "4                      281_97_238_322;699_437_248_60  "
      ]
     },
     "execution_count": 11,
     "metadata": {},
     "output_type": "execute_result"
    }
   ],
   "source": [
    "group = 'train_b'\n",
    "# group_aug = 'train_b_aug' # train_b 和 aug\n",
    "group_aug = 'aug_train_b' #只有 aug\n",
    "aug_max = 10\n",
    "annotation_info = pd.read_csv('../data/raw/%s.csv'%(group))\n",
    "annotation_info.head()"
   ]
  },
  {
   "cell_type": "code",
   "execution_count": 12,
   "metadata": {
    "collapsed": true
   },
   "outputs": [],
   "source": [
    "def annotation_augmentation_yolo3_only_aug(df, aug_to, aug_from=1):\n",
    "    ''' yolo3 需要这样：只有 aug 不包含 train_b 自身 '''\n",
    "    result = df\n",
    "    for i in range(aug_from, aug_to):\n",
    "#         print('i=', i)\n",
    "        df_aug = df.copy()\n",
    "        df_aug.name = df.name.apply(lambda x: 'aug%s_%s'%(i, x))\n",
    "        if i > 1:\n",
    "            result = pd.concat([result, df_aug])\n",
    "        else:\n",
    "            result = df_aug\n",
    "    return result"
   ]
  },
  {
   "cell_type": "code",
   "execution_count": 13,
   "metadata": {
    "collapsed": true
   },
   "outputs": [],
   "source": [
    "def annotation_augmentation_yolo3(df, aug_max):\n",
    "    ''' yolo3 需要这样：train_b 和 aug '''\n",
    "    result = df\n",
    "    for i in range(aug_max):\n",
    "#         print('i=', i)\n",
    "        df_aug = df.copy()\n",
    "        if i > 0:\n",
    "            df_aug.name = df.name.apply(lambda x: 'aug%s_%s'%(i, x))\n",
    "            result = pd.concat([result, df_aug])\n",
    "        else:\n",
    "            result = df_aug\n",
    "    return result"
   ]
  },
  {
   "cell_type": "code",
   "execution_count": 14,
   "metadata": {
    "collapsed": true
   },
   "outputs": [],
   "source": [
    "def annotation_augmentation(df, aug_max):\n",
    "    ''' object detection 框架可以这样 '''\n",
    "    result = df\n",
    "    for i in range(aug_max):\n",
    "#         print('i=', i)\n",
    "        df_aug = df.copy()\n",
    "        if i > 0:\n",
    "            df_aug.name = df.name.apply(lambda x: '%s%s/aug%s_%s'%(group_aug, i, i, x))\n",
    "            result = pd.concat([result, df_aug])\n",
    "        else:\n",
    "            df_aug.name = df.name.apply(lambda x: group+'/'+x)\n",
    "            result = df_aug\n",
    "    return result"
   ]
  },
  {
   "cell_type": "code",
   "execution_count": 15,
   "metadata": {
    "collapsed": true
   },
   "outputs": [],
   "source": [
    "# annotation_aug = annotation_augmentation(annotation_info, aug_max)\n",
    "# # 输出增广结果\n",
    "# annotation_aug.to_csv('../data/raw/%s.csv'%(group_aug), index=False)\n",
    "# annotation_aug.head()"
   ]
  },
  {
   "cell_type": "code",
   "execution_count": 16,
   "metadata": {},
   "outputs": [],
   "source": [
    "# annotation_aug = annotation_augmentation_yolo3(annotation_info, aug_max)\n",
    "# # 输出增广结果\n",
    "# annotation_aug.to_csv('../data/raw/%s.csv'%(group_aug), index=False)\n",
    "# annotation_aug.head()"
   ]
  },
  {
   "cell_type": "code",
   "execution_count": 17,
   "metadata": {},
   "outputs": [
    {
     "data": {
      "text/html": [
       "<div>\n",
       "<style>\n",
       "    .dataframe thead tr:only-child th {\n",
       "        text-align: right;\n",
       "    }\n",
       "\n",
       "    .dataframe thead th {\n",
       "        text-align: left;\n",
       "    }\n",
       "\n",
       "    .dataframe tbody tr th {\n",
       "        vertical-align: top;\n",
       "    }\n",
       "</style>\n",
       "<table border=\"1\" class=\"dataframe\">\n",
       "  <thead>\n",
       "    <tr style=\"text-align: right;\">\n",
       "      <th></th>\n",
       "      <th>name</th>\n",
       "      <th>coordinate</th>\n",
       "    </tr>\n",
       "  </thead>\n",
       "  <tbody>\n",
       "    <tr>\n",
       "      <th>0</th>\n",
       "      <td>aug1_3333bf6f-57cb-4d90-afe1-636dcd88a255.jpg</td>\n",
       "      <td>498_237_173_172;1049_20_18_82</td>\n",
       "    </tr>\n",
       "    <tr>\n",
       "      <th>1</th>\n",
       "      <td>aug1_1eb97c5b-78ef-455b-8c9c-3fc8c33201f9.jpg</td>\n",
       "      <td>438_79_233_285;627_52_114_101;205_191_166_164;...</td>\n",
       "    </tr>\n",
       "    <tr>\n",
       "      <th>2</th>\n",
       "      <td>aug1_eeeb4783-6acb-4e83-9adf-fc0d2ee1f74d.jpg</td>\n",
       "      <td>195_266_176_143</td>\n",
       "    </tr>\n",
       "    <tr>\n",
       "      <th>3</th>\n",
       "      <td>aug1_98681fd0-656a-4e52-b2cf-77ad5747e51d.jpg</td>\n",
       "      <td>1042_0_27_47;391_12_128_110;292_171_179_183</td>\n",
       "    </tr>\n",
       "    <tr>\n",
       "      <th>4</th>\n",
       "      <td>aug1_c8b43dfa-094c-407a-9867-3f351354a755.jpg</td>\n",
       "      <td>281_97_238_322;699_437_248_60</td>\n",
       "    </tr>\n",
       "  </tbody>\n",
       "</table>\n",
       "</div>"
      ],
      "text/plain": [
       "                                            name  \\\n",
       "0  aug1_3333bf6f-57cb-4d90-afe1-636dcd88a255.jpg   \n",
       "1  aug1_1eb97c5b-78ef-455b-8c9c-3fc8c33201f9.jpg   \n",
       "2  aug1_eeeb4783-6acb-4e83-9adf-fc0d2ee1f74d.jpg   \n",
       "3  aug1_98681fd0-656a-4e52-b2cf-77ad5747e51d.jpg   \n",
       "4  aug1_c8b43dfa-094c-407a-9867-3f351354a755.jpg   \n",
       "\n",
       "                                          coordinate  \n",
       "0                      498_237_173_172;1049_20_18_82  \n",
       "1  438_79_233_285;627_52_114_101;205_191_166_164;...  \n",
       "2                                    195_266_176_143  \n",
       "3        1042_0_27_47;391_12_128_110;292_171_179_183  \n",
       "4                      281_97_238_322;699_437_248_60  "
      ]
     },
     "execution_count": 17,
     "metadata": {},
     "output_type": "execute_result"
    }
   ],
   "source": [
    "annotation_aug = annotation_augmentation_yolo3_only_aug(annotation_info, aug_max)\n",
    "# 输出增广结果\n",
    "annotation_aug.to_csv('../data/raw/%s.csv'%(group_aug), index=False)\n",
    "annotation_aug.head()"
   ]
  }
 ],
 "metadata": {
  "kernelspec": {
   "display_name": "Python 3",
   "language": "python",
   "name": "python3"
  },
  "language_info": {
   "codemirror_mode": {
    "name": "ipython",
    "version": 3
   },
   "file_extension": ".py",
   "mimetype": "text/x-python",
   "name": "python",
   "nbconvert_exporter": "python",
   "pygments_lexer": "ipython3",
   "version": "3.6.3"
  }
 },
 "nbformat": 4,
 "nbformat_minor": 2
}
