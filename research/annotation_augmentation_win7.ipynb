{
 "cells": [
  {
   "cell_type": "markdown",
   "metadata": {},
   "source": [
    "# 物体检测标签数据增广\n",
    "这个文件是在 win7 环境进行的工作。临时。\n",
    "- 一般环境在 Ubuntu 虚拟机"
   ]
  },
  {
   "cell_type": "code",
   "execution_count": 1,
   "metadata": {
    "collapsed": true
   },
   "outputs": [],
   "source": [
    "import pandas as pd"
   ]
  },
  {
   "cell_type": "code",
   "execution_count": 2,
   "metadata": {},
   "outputs": [
    {
     "data": {
      "text/html": [
       "<div>\n",
       "<style>\n",
       "    .dataframe thead tr:only-child th {\n",
       "        text-align: right;\n",
       "    }\n",
       "\n",
       "    .dataframe thead th {\n",
       "        text-align: left;\n",
       "    }\n",
       "\n",
       "    .dataframe tbody tr th {\n",
       "        vertical-align: top;\n",
       "    }\n",
       "</style>\n",
       "<table border=\"1\" class=\"dataframe\">\n",
       "  <thead>\n",
       "    <tr style=\"text-align: right;\">\n",
       "      <th></th>\n",
       "      <th>name</th>\n",
       "      <th>coordinate</th>\n",
       "    </tr>\n",
       "  </thead>\n",
       "  <tbody>\n",
       "    <tr>\n",
       "      <th>0</th>\n",
       "      <td>e3d5c101-6bb9-48af-ac80-08c73304456b.jpg</td>\n",
       "      <td>173_179_162_180;508_197_157_194</td>\n",
       "    </tr>\n",
       "    <tr>\n",
       "      <th>1</th>\n",
       "      <td>e3d5d8a4-9622-45fd-ac07-4e0fdc0ba97b.jpg</td>\n",
       "      <td>341_21_83_66;528_29_107_83;387_76_108_114;191_...</td>\n",
       "    </tr>\n",
       "    <tr>\n",
       "      <th>2</th>\n",
       "      <td>e3d6518e-b0f5-4b4f-bacd-6ee405424ca0.jpg</td>\n",
       "      <td>449_168_113_101;575_148_130_168;339_270_187_20...</td>\n",
       "    </tr>\n",
       "    <tr>\n",
       "      <th>3</th>\n",
       "      <td>e3d65c80-cdc3-4097-a0ad-374cd2a45107.jpg</td>\n",
       "      <td>442_0_85_42;302_0_71_57;205_24_106_112;396_65_...</td>\n",
       "    </tr>\n",
       "    <tr>\n",
       "      <th>4</th>\n",
       "      <td>e3d6a72f-a64a-416f-a453-94ea81814ccf.jpg</td>\n",
       "      <td>33_10_85_64;1_30_79_111;193_26_118_74;887_0_17...</td>\n",
       "    </tr>\n",
       "  </tbody>\n",
       "</table>\n",
       "</div>"
      ],
      "text/plain": [
       "                                       name  \\\n",
       "0  e3d5c101-6bb9-48af-ac80-08c73304456b.jpg   \n",
       "1  e3d5d8a4-9622-45fd-ac07-4e0fdc0ba97b.jpg   \n",
       "2  e3d6518e-b0f5-4b4f-bacd-6ee405424ca0.jpg   \n",
       "3  e3d65c80-cdc3-4097-a0ad-374cd2a45107.jpg   \n",
       "4  e3d6a72f-a64a-416f-a453-94ea81814ccf.jpg   \n",
       "\n",
       "                                          coordinate  \n",
       "0                    173_179_162_180;508_197_157_194  \n",
       "1  341_21_83_66;528_29_107_83;387_76_108_114;191_...  \n",
       "2  449_168_113_101;575_148_130_168;339_270_187_20...  \n",
       "3  442_0_85_42;302_0_71_57;205_24_106_112;396_65_...  \n",
       "4  33_10_85_64;1_30_79_111;193_26_118_74;887_0_17...  "
      ]
     },
     "execution_count": 2,
     "metadata": {},
     "output_type": "execute_result"
    }
   ],
   "source": [
    "group = 'train_1w'\n",
    "# group_aug = 'train_b_1w'\n",
    "# group_aug = 'train_b_aug_1w' # 小数据集增广+大数据 10000+10602=20602\n",
    "group_aug = 'train_b_1w_aug' # 小数据集+大数据集+都增广 10000+10602 * (1+2) =41806 \n",
    "aug_max = 3\n",
    "annotation_info = pd.read_csv('../data/%s.csv'%(group))\n",
    "annotation_info.head()"
   ]
  },
  {
   "cell_type": "code",
   "execution_count": 3,
   "metadata": {
    "collapsed": true
   },
   "outputs": [],
   "source": [
    "def annotation_augmentation_yolo3(df, aug_max):\n",
    "    ''' yolo3 需要这样：train_b 和 aug '''\n",
    "    result = df\n",
    "    for i in range(aug_max):\n",
    "#         print('i=', i)\n",
    "        df_aug = df.copy()\n",
    "        if i > 0:\n",
    "            df_aug.name = df.name.apply(lambda x: 'aug%s_%s'%(i, x))\n",
    "            result = pd.concat([result, df_aug])\n",
    "        else:\n",
    "            result = df_aug\n",
    "    return result"
   ]
  },
  {
   "cell_type": "code",
   "execution_count": 4,
   "metadata": {},
   "outputs": [
    {
     "data": {
      "text/html": [
       "<div>\n",
       "<style>\n",
       "    .dataframe thead tr:only-child th {\n",
       "        text-align: right;\n",
       "    }\n",
       "\n",
       "    .dataframe thead th {\n",
       "        text-align: left;\n",
       "    }\n",
       "\n",
       "    .dataframe tbody tr th {\n",
       "        vertical-align: top;\n",
       "    }\n",
       "</style>\n",
       "<table border=\"1\" class=\"dataframe\">\n",
       "  <thead>\n",
       "    <tr style=\"text-align: right;\">\n",
       "      <th></th>\n",
       "      <th>name</th>\n",
       "      <th>coordinate</th>\n",
       "    </tr>\n",
       "  </thead>\n",
       "  <tbody>\n",
       "    <tr>\n",
       "      <th>0</th>\n",
       "      <td>e3d5c101-6bb9-48af-ac80-08c73304456b.jpg</td>\n",
       "      <td>173_179_162_180;508_197_157_194</td>\n",
       "    </tr>\n",
       "    <tr>\n",
       "      <th>1</th>\n",
       "      <td>e3d5d8a4-9622-45fd-ac07-4e0fdc0ba97b.jpg</td>\n",
       "      <td>341_21_83_66;528_29_107_83;387_76_108_114;191_...</td>\n",
       "    </tr>\n",
       "    <tr>\n",
       "      <th>2</th>\n",
       "      <td>e3d6518e-b0f5-4b4f-bacd-6ee405424ca0.jpg</td>\n",
       "      <td>449_168_113_101;575_148_130_168;339_270_187_20...</td>\n",
       "    </tr>\n",
       "    <tr>\n",
       "      <th>3</th>\n",
       "      <td>e3d65c80-cdc3-4097-a0ad-374cd2a45107.jpg</td>\n",
       "      <td>442_0_85_42;302_0_71_57;205_24_106_112;396_65_...</td>\n",
       "    </tr>\n",
       "    <tr>\n",
       "      <th>4</th>\n",
       "      <td>e3d6a72f-a64a-416f-a453-94ea81814ccf.jpg</td>\n",
       "      <td>33_10_85_64;1_30_79_111;193_26_118_74;887_0_17...</td>\n",
       "    </tr>\n",
       "  </tbody>\n",
       "</table>\n",
       "</div>"
      ],
      "text/plain": [
       "                                       name  \\\n",
       "0  e3d5c101-6bb9-48af-ac80-08c73304456b.jpg   \n",
       "1  e3d5d8a4-9622-45fd-ac07-4e0fdc0ba97b.jpg   \n",
       "2  e3d6518e-b0f5-4b4f-bacd-6ee405424ca0.jpg   \n",
       "3  e3d65c80-cdc3-4097-a0ad-374cd2a45107.jpg   \n",
       "4  e3d6a72f-a64a-416f-a453-94ea81814ccf.jpg   \n",
       "\n",
       "                                          coordinate  \n",
       "0                    173_179_162_180;508_197_157_194  \n",
       "1  341_21_83_66;528_29_107_83;387_76_108_114;191_...  \n",
       "2  449_168_113_101;575_148_130_168;339_270_187_20...  \n",
       "3  442_0_85_42;302_0_71_57;205_24_106_112;396_65_...  \n",
       "4  33_10_85_64;1_30_79_111;193_26_118_74;887_0_17...  "
      ]
     },
     "execution_count": 4,
     "metadata": {},
     "output_type": "execute_result"
    }
   ],
   "source": [
    "annotation_aug = annotation_augmentation_yolo3(annotation_info, aug_max)\n",
    "# 输出增广结果\n",
    "annotation_aug.to_csv('../data/%s_aug.csv'%group, index=False)\n",
    "annotation_aug.head()"
   ]
  },
  {
   "cell_type": "code",
   "execution_count": 5,
   "metadata": {},
   "outputs": [
    {
     "data": {
      "text/html": [
       "<div>\n",
       "<style>\n",
       "    .dataframe thead tr:only-child th {\n",
       "        text-align: right;\n",
       "    }\n",
       "\n",
       "    .dataframe thead th {\n",
       "        text-align: left;\n",
       "    }\n",
       "\n",
       "    .dataframe tbody tr th {\n",
       "        vertical-align: top;\n",
       "    }\n",
       "</style>\n",
       "<table border=\"1\" class=\"dataframe\">\n",
       "  <thead>\n",
       "    <tr style=\"text-align: right;\">\n",
       "      <th></th>\n",
       "      <th>name</th>\n",
       "      <th>coordinate</th>\n",
       "    </tr>\n",
       "  </thead>\n",
       "  <tbody>\n",
       "    <tr>\n",
       "      <th>0</th>\n",
       "      <td>3333bf6f-57cb-4d90-afe1-636dcd88a255.jpg</td>\n",
       "      <td>498_237_173_172;1049_20_18_82</td>\n",
       "    </tr>\n",
       "    <tr>\n",
       "      <th>1</th>\n",
       "      <td>1eb97c5b-78ef-455b-8c9c-3fc8c33201f9.jpg</td>\n",
       "      <td>438_79_233_285;627_52_114_101;205_191_166_164;...</td>\n",
       "    </tr>\n",
       "    <tr>\n",
       "      <th>2</th>\n",
       "      <td>eeeb4783-6acb-4e83-9adf-fc0d2ee1f74d.jpg</td>\n",
       "      <td>195_266_176_143</td>\n",
       "    </tr>\n",
       "    <tr>\n",
       "      <th>3</th>\n",
       "      <td>98681fd0-656a-4e52-b2cf-77ad5747e51d.jpg</td>\n",
       "      <td>1042_0_27_47;391_12_128_110;292_171_179_183</td>\n",
       "    </tr>\n",
       "    <tr>\n",
       "      <th>4</th>\n",
       "      <td>c8b43dfa-094c-407a-9867-3f351354a755.jpg</td>\n",
       "      <td>281_97_238_322;699_437_248_60</td>\n",
       "    </tr>\n",
       "  </tbody>\n",
       "</table>\n",
       "</div>"
      ],
      "text/plain": [
       "                                       name  \\\n",
       "0  3333bf6f-57cb-4d90-afe1-636dcd88a255.jpg   \n",
       "1  1eb97c5b-78ef-455b-8c9c-3fc8c33201f9.jpg   \n",
       "2  eeeb4783-6acb-4e83-9adf-fc0d2ee1f74d.jpg   \n",
       "3  98681fd0-656a-4e52-b2cf-77ad5747e51d.jpg   \n",
       "4  c8b43dfa-094c-407a-9867-3f351354a755.jpg   \n",
       "\n",
       "                                          coordinate  \n",
       "0                      498_237_173_172;1049_20_18_82  \n",
       "1  438_79_233_285;627_52_114_101;205_191_166_164;...  \n",
       "2                                    195_266_176_143  \n",
       "3        1042_0_27_47;391_12_128_110;292_171_179_183  \n",
       "4                      281_97_238_322;699_437_248_60  "
      ]
     },
     "execution_count": 5,
     "metadata": {},
     "output_type": "execute_result"
    }
   ],
   "source": [
    "group2 = 'train_b_aug'\n",
    "annotation_info2 = pd.read_csv('../data/%s.csv'%(group2))\n",
    "annotation_info2.head()"
   ]
  },
  {
   "cell_type": "code",
   "execution_count": 8,
   "metadata": {},
   "outputs": [
    {
     "data": {
      "text/plain": [
       "(31806, 2)"
      ]
     },
     "execution_count": 8,
     "metadata": {},
     "output_type": "execute_result"
    }
   ],
   "source": [
    "annotation_aug.shape"
   ]
  },
  {
   "cell_type": "code",
   "execution_count": 6,
   "metadata": {},
   "outputs": [
    {
     "data": {
      "text/html": [
       "<div>\n",
       "<style>\n",
       "    .dataframe thead tr:only-child th {\n",
       "        text-align: right;\n",
       "    }\n",
       "\n",
       "    .dataframe thead th {\n",
       "        text-align: left;\n",
       "    }\n",
       "\n",
       "    .dataframe tbody tr th {\n",
       "        vertical-align: top;\n",
       "    }\n",
       "</style>\n",
       "<table border=\"1\" class=\"dataframe\">\n",
       "  <thead>\n",
       "    <tr style=\"text-align: right;\">\n",
       "      <th></th>\n",
       "      <th>name</th>\n",
       "      <th>coordinate</th>\n",
       "    </tr>\n",
       "  </thead>\n",
       "  <tbody>\n",
       "    <tr>\n",
       "      <th>0</th>\n",
       "      <td>e3d5c101-6bb9-48af-ac80-08c73304456b.jpg</td>\n",
       "      <td>173_179_162_180;508_197_157_194</td>\n",
       "    </tr>\n",
       "    <tr>\n",
       "      <th>1</th>\n",
       "      <td>e3d5d8a4-9622-45fd-ac07-4e0fdc0ba97b.jpg</td>\n",
       "      <td>341_21_83_66;528_29_107_83;387_76_108_114;191_...</td>\n",
       "    </tr>\n",
       "    <tr>\n",
       "      <th>2</th>\n",
       "      <td>e3d6518e-b0f5-4b4f-bacd-6ee405424ca0.jpg</td>\n",
       "      <td>449_168_113_101;575_148_130_168;339_270_187_20...</td>\n",
       "    </tr>\n",
       "    <tr>\n",
       "      <th>3</th>\n",
       "      <td>e3d65c80-cdc3-4097-a0ad-374cd2a45107.jpg</td>\n",
       "      <td>442_0_85_42;302_0_71_57;205_24_106_112;396_65_...</td>\n",
       "    </tr>\n",
       "    <tr>\n",
       "      <th>4</th>\n",
       "      <td>e3d6a72f-a64a-416f-a453-94ea81814ccf.jpg</td>\n",
       "      <td>33_10_85_64;1_30_79_111;193_26_118_74;887_0_17...</td>\n",
       "    </tr>\n",
       "  </tbody>\n",
       "</table>\n",
       "</div>"
      ],
      "text/plain": [
       "                                       name  \\\n",
       "0  e3d5c101-6bb9-48af-ac80-08c73304456b.jpg   \n",
       "1  e3d5d8a4-9622-45fd-ac07-4e0fdc0ba97b.jpg   \n",
       "2  e3d6518e-b0f5-4b4f-bacd-6ee405424ca0.jpg   \n",
       "3  e3d65c80-cdc3-4097-a0ad-374cd2a45107.jpg   \n",
       "4  e3d6a72f-a64a-416f-a453-94ea81814ccf.jpg   \n",
       "\n",
       "                                          coordinate  \n",
       "0                    173_179_162_180;508_197_157_194  \n",
       "1  341_21_83_66;528_29_107_83;387_76_108_114;191_...  \n",
       "2  449_168_113_101;575_148_130_168;339_270_187_20...  \n",
       "3  442_0_85_42;302_0_71_57;205_24_106_112;396_65_...  \n",
       "4  33_10_85_64;1_30_79_111;193_26_118_74;887_0_17...  "
      ]
     },
     "execution_count": 6,
     "metadata": {},
     "output_type": "execute_result"
    }
   ],
   "source": [
    "result = pd.concat([annotation_aug, annotation_info2])\n",
    "# 输出增广结果\n",
    "result.to_csv('../data/%s.csv'%(group_aug), index=False)\n",
    "result.head()"
   ]
  },
  {
   "cell_type": "code",
   "execution_count": 9,
   "metadata": {},
   "outputs": [
    {
     "data": {
      "text/plain": [
       "(41806, 2)"
      ]
     },
     "execution_count": 9,
     "metadata": {},
     "output_type": "execute_result"
    }
   ],
   "source": [
    "result.shape"
   ]
  },
  {
   "cell_type": "code",
   "execution_count": null,
   "metadata": {
    "collapsed": true
   },
   "outputs": [],
   "source": []
  }
 ],
 "metadata": {
  "kernelspec": {
   "display_name": "Python 3",
   "language": "python",
   "name": "python3"
  },
  "language_info": {
   "codemirror_mode": {
    "name": "ipython",
    "version": 3
   },
   "file_extension": ".py",
   "mimetype": "text/x-python",
   "name": "python",
   "nbconvert_exporter": "python",
   "pygments_lexer": "ipython3",
   "version": "3.6.3"
  }
 },
 "nbformat": 4,
 "nbformat_minor": 2
}
