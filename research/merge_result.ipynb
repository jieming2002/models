{
 "cells": [
  {
   "cell_type": "markdown",
   "metadata": {},
   "source": [
    "# 融合多个模型的预测结果\n",
    "通过 IOU 判断同一个 bbox"
   ]
  },
  {
   "cell_type": "code",
   "execution_count": 185,
   "metadata": {
    "collapsed": true
   },
   "outputs": [],
   "source": [
    "import pandas as pd\n",
    "import os\n",
    "import numpy as np\n",
    "import sys"
   ]
  },
  {
   "cell_type": "code",
   "execution_count": 186,
   "metadata": {
    "collapsed": true
   },
   "outputs": [],
   "source": [
    "min_size = 12 # 12 最佳\n",
    "iou_threshold = 0.7\n",
    "path = '../data/summit/'\n",
    "# path = '../data/summi_huo/'\n",
    "# file_list = ['summit_frir2_027_41097', 'summit_frr101_028_29124'] #过滤bbox < 12 = merged_005 = 0.864368\n",
    "# file_list = ['merged_005', 'summit_frir2_027_40343'] \n",
    "file_list = ['summi_huo-717', 'summit_yolo3_010_final'] "
   ]
  },
  {
   "cell_type": "code",
   "execution_count": 187,
   "metadata": {
    "collapsed": true
   },
   "outputs": [],
   "source": [
    "def IOU(Reframe,GTframe):\n",
    "    \"\"\"\n",
    "    https://blog.csdn.net/eddy_zheng/article/details/52126641\n",
    "    自定义函数，计算两矩形 IOU，传入为均为矩形坐标和尺寸 [x,y, width, height]\n",
    "    \"\"\"\n",
    "    x1, y1, width1, height1 = Reframe\n",
    "    x2, y2, width2, height2 = GTframe\n",
    "\n",
    "    endx = max(x1 + width1, x2 + width2)\n",
    "    startx = min(x1, x2)\n",
    "#     计算重叠部分的宽度\n",
    "    width = width1 + width2 - (endx - startx)\n",
    "\n",
    "    endy = max(y1 + height1, y2 + height2)\n",
    "    starty = min(y1, y2)\n",
    "#     计算重叠部分的高度\n",
    "    height = height1 + height2 - (endy - starty)\n",
    "\n",
    "    if width <=0 or height <= 0:\n",
    "        ratio = 0 # 重叠率为 0 \n",
    "    else:\n",
    "        Area = width * height # 两矩形相交面积\n",
    "        Area1 = width1 * height1\n",
    "        Area2 = width2 * height2\n",
    "        ratio = Area/(Area1 + Area2 - Area)\n",
    "    \n",
    "    return ratio,Reframe,GTframe"
   ]
  },
  {
   "cell_type": "code",
   "execution_count": 188,
   "metadata": {
    "collapsed": true
   },
   "outputs": [],
   "source": [
    "def get_coor_from_str(coor_str):\n",
    "    bbox = coor_str.split('_')\n",
    "    b = [int(float(bbox[0])), int(float(bbox[1])), int(float(bbox[2])), int(float(bbox[3]))]\n",
    "    return b"
   ]
  },
  {
   "cell_type": "code",
   "execution_count": 189,
   "metadata": {
    "collapsed": true
   },
   "outputs": [],
   "source": [
    "def merge_bbox(bbox1, bbox2):\n",
    "    bbox = []\n",
    "    for i in range(len(bbox1)):\n",
    "        bbox.append(int(np.round((bbox1[i] + bbox2[i]) / 2)))\n",
    "    return bbox"
   ]
  },
  {
   "cell_type": "code",
   "execution_count": 190,
   "metadata": {
    "collapsed": true
   },
   "outputs": [],
   "source": [
    "def merge_coordinate(coordinate1, coordinate2):\n",
    "    list1 = coordinate1.split(';')\n",
    "#     print('list1 =', len(list1))\n",
    "    list2 = coordinate2.split(';')\n",
    "#     print('list2 =', len(list2))\n",
    "#     两个连起来，两两对比\n",
    "    corr_list = list1+list2\n",
    "    coor_num = len(corr_list)\n",
    "#     print('corr_list=', corr_list)\n",
    "    merged_list = []\n",
    "    result_list = []\n",
    "    out_str = ''\n",
    "    for i in range(0, coor_num):\n",
    "        bbox1 = get_coor_from_str(corr_list[i])\n",
    "#         print('%s bbox1=%s'%(i, bbox1))\n",
    "        if i in merged_list:\n",
    "#             print('已合并 bbox1=', bbox1)\n",
    "            continue\n",
    "        \n",
    "        if bbox1[2] < min_size or bbox1[3] < min_size:\n",
    "#             print('忽略太小的 bbox1=', bbox1)\n",
    "            continue\n",
    "        bbox = bbox1 #默认没有相同的，取自身 \n",
    "        for j in range(i+1, coor_num):\n",
    "            bbox2 = get_coor_from_str(corr_list[j])\n",
    "#             print('%s bbox2=%s'%(j, bbox2))\n",
    "            if j in merged_list:\n",
    "#                 print('已合并 bbox2=', bbox2)\n",
    "                continue\n",
    "            if bbox2[2] < min_size or bbox2[3] < min_size:\n",
    "#                 print('忽略太小的 bbox2=', bbox2)\n",
    "                continue\n",
    "            iou = IOU(bbox1, bbox2)\n",
    "#             print('iou =', iou)\n",
    "            if iou[0] > iou_threshold:\n",
    "                bbox = merge_bbox(bbox1, bbox2)\n",
    "#                 print('有相同的，则合并 bbox=', bbox)\n",
    "#                 标记为已合并\n",
    "                merged_list.append(j)\n",
    "        \n",
    "        if len(result_list) > 0:\n",
    "            out_str += ';'\n",
    "        \n",
    "        result_list.append(bbox)\n",
    "        out_str += '_'.join([str(bbox[0]), str(bbox[1]), str(bbox[2]), str(bbox[3])])\n",
    "#         break\n",
    "#     print('merged_list =', len(merged_list))\n",
    "#     print('result_list =', len(result_list))\n",
    "    return out_str"
   ]
  },
  {
   "cell_type": "code",
   "execution_count": 191,
   "metadata": {
    "collapsed": true
   },
   "outputs": [],
   "source": [
    "# info_1 = pd.read_csv('%s%s.csv'%(path, file_list[0]))\n",
    "# info_1.head()"
   ]
  },
  {
   "cell_type": "code",
   "execution_count": 192,
   "metadata": {
    "collapsed": true
   },
   "outputs": [],
   "source": [
    "# info_2 = pd.read_csv('%s%s.csv'%(path, file_list[1]))\n",
    "# info_2.head()"
   ]
  },
  {
   "cell_type": "code",
   "execution_count": 193,
   "metadata": {
    "collapsed": true
   },
   "outputs": [],
   "source": [
    "def merge_info(info_1, info_2):\n",
    "    image_num = len(info_1)\n",
    "    result_df = info_1.copy()\n",
    "    for i in range(0, image_num):\n",
    "        info = info_1.iloc[i:i+1]\n",
    "        name = info.name.values[0]\n",
    "#         print('name1 =', name)\n",
    "        coordinate = info.coordinate.values[0]\n",
    "#         print('coordinate =', coordinate)\n",
    "        info2 = info_2.iloc[i:i+1]\n",
    "        name2 = info2.name.values[0]\n",
    "#         print('name2 =', name2)\n",
    "        coordinate2 = info2.coordinate.values[0]\n",
    "#         print('coordinate2 =', coordinate2)\n",
    "        \n",
    "        result_row = result_df.iloc[i:i+1]\n",
    "        if not isinstance(coordinate, str):\n",
    "            coordinate_merged = coordinate2\n",
    "        elif not isinstance(coordinate2, str):\n",
    "            coordinate_merged = coordinate\n",
    "        else:\n",
    "            coordinate_merged = merge_coordinate(coordinate, coordinate2)\n",
    "#         print('coordinate_merged =', coordinate_merged)\n",
    "        result_row.coordinate.values[0] = coordinate_merged\n",
    "        sys.stdout.write('\\r>> i = %s / %s' % ((i+1),image_num))\n",
    "        sys.stdout.flush()\n",
    "#         if (i > 0):\n",
    "#             break\n",
    "    sys.stdout.write('\\n')\n",
    "    sys.stdout.flush()\n",
    "    return result_df\n",
    "\n",
    "# merge_info(info_1, info_2)"
   ]
  },
  {
   "cell_type": "code",
   "execution_count": 194,
   "metadata": {},
   "outputs": [
    {
     "name": "stdout",
     "output_type": "stream",
     "text": [
      ">> i = 5000 / 5000\n"
     ]
    }
   ],
   "source": [
    "for i in range(0, len(file_list)):\n",
    "    if i == 0:\n",
    "        info_0 = pd.read_csv('%s%s.csv'%(path, file_list[i]))\n",
    "    else:\n",
    "        info_other = pd.read_csv('%s%s.csv'%(path, file_list[i]))\n",
    "        info_0 = merge_info(info_0, info_other)\n",
    "info_0.to_csv('%s%s.csv'%(path, 'merged'), index=False)"
   ]
  },
  {
   "cell_type": "code",
   "execution_count": 195,
   "metadata": {},
   "outputs": [
    {
     "data": {
      "text/html": [
       "<div>\n",
       "<style>\n",
       "    .dataframe thead tr:only-child th {\n",
       "        text-align: right;\n",
       "    }\n",
       "\n",
       "    .dataframe thead th {\n",
       "        text-align: left;\n",
       "    }\n",
       "\n",
       "    .dataframe tbody tr th {\n",
       "        vertical-align: top;\n",
       "    }\n",
       "</style>\n",
       "<table border=\"1\" class=\"dataframe\">\n",
       "  <thead>\n",
       "    <tr style=\"text-align: right;\">\n",
       "      <th></th>\n",
       "      <th>name</th>\n",
       "      <th>coordinate</th>\n",
       "    </tr>\n",
       "  </thead>\n",
       "  <tbody>\n",
       "    <tr>\n",
       "      <th>0</th>\n",
       "      <td>0000b1da-64b9-4f4b-9291-d75ddc00ea1d.jpg</td>\n",
       "      <td>193_0_59_19;488_256_134_124;207_242_176_185;14...</td>\n",
       "    </tr>\n",
       "    <tr>\n",
       "      <th>1</th>\n",
       "      <td>0003be84-3f11-4ddf-b409-cd00a7b78ceb.jpg</td>\n",
       "      <td>440_20_90_81;606_5_109_133;433_99_112_120;460_...</td>\n",
       "    </tr>\n",
       "    <tr>\n",
       "      <th>2</th>\n",
       "      <td>000594ea-2b16-4e9a-a58e-f30d956986b4.jpg</td>\n",
       "      <td>379_202_178_186;1_205_37_282;324_5_120_33;0_71...</td>\n",
       "    </tr>\n",
       "    <tr>\n",
       "      <th>3</th>\n",
       "      <td>0006a207-6339-4bb6-8d57-75a4e29d3c7f.jpg</td>\n",
       "      <td>188_141_170_208;589_249_179_217;0_167_65_190;8...</td>\n",
       "    </tr>\n",
       "    <tr>\n",
       "      <th>4</th>\n",
       "      <td>0008e472-76f6-414a-b334-32a9dcfc30b0.jpg</td>\n",
       "      <td>487_3_36_18;702_7_57_85;617_8_69_83;428_6_77_8...</td>\n",
       "    </tr>\n",
       "  </tbody>\n",
       "</table>\n",
       "</div>"
      ],
      "text/plain": [
       "                                       name  \\\n",
       "0  0000b1da-64b9-4f4b-9291-d75ddc00ea1d.jpg   \n",
       "1  0003be84-3f11-4ddf-b409-cd00a7b78ceb.jpg   \n",
       "2  000594ea-2b16-4e9a-a58e-f30d956986b4.jpg   \n",
       "3  0006a207-6339-4bb6-8d57-75a4e29d3c7f.jpg   \n",
       "4  0008e472-76f6-414a-b334-32a9dcfc30b0.jpg   \n",
       "\n",
       "                                          coordinate  \n",
       "0  193_0_59_19;488_256_134_124;207_242_176_185;14...  \n",
       "1  440_20_90_81;606_5_109_133;433_99_112_120;460_...  \n",
       "2  379_202_178_186;1_205_37_282;324_5_120_33;0_71...  \n",
       "3  188_141_170_208;589_249_179_217;0_167_65_190;8...  \n",
       "4  487_3_36_18;702_7_57_85;617_8_69_83;428_6_77_8...  "
      ]
     },
     "execution_count": 195,
     "metadata": {},
     "output_type": "execute_result"
    }
   ],
   "source": [
    "info_other.head()"
   ]
  },
  {
   "cell_type": "code",
   "execution_count": 196,
   "metadata": {},
   "outputs": [
    {
     "data": {
      "text/html": [
       "<div>\n",
       "<style>\n",
       "    .dataframe thead tr:only-child th {\n",
       "        text-align: right;\n",
       "    }\n",
       "\n",
       "    .dataframe thead th {\n",
       "        text-align: left;\n",
       "    }\n",
       "\n",
       "    .dataframe tbody tr th {\n",
       "        vertical-align: top;\n",
       "    }\n",
       "</style>\n",
       "<table border=\"1\" class=\"dataframe\">\n",
       "  <thead>\n",
       "    <tr style=\"text-align: right;\">\n",
       "      <th></th>\n",
       "      <th>name</th>\n",
       "      <th>coordinate</th>\n",
       "    </tr>\n",
       "  </thead>\n",
       "  <tbody>\n",
       "    <tr>\n",
       "      <th>0</th>\n",
       "      <td>0000b1da-64b9-4f4b-9291-d75ddc00ea1d.jpg</td>\n",
       "      <td>210_241_172_188;140_6_72_50;196_0_57_18;495_23...</td>\n",
       "    </tr>\n",
       "    <tr>\n",
       "      <th>1</th>\n",
       "      <td>0003be84-3f11-4ddf-b409-cd00a7b78ceb.jpg</td>\n",
       "      <td>456_392_220_103;229_198_159_170;168_72_142_96;...</td>\n",
       "    </tr>\n",
       "    <tr>\n",
       "      <th>2</th>\n",
       "      <td>000594ea-2b16-4e9a-a58e-f30d956986b4.jpg</td>\n",
       "      <td>376_198_184_194;1_74_150_157;385_40_130_114;32...</td>\n",
       "    </tr>\n",
       "    <tr>\n",
       "      <th>3</th>\n",
       "      <td>0006a207-6339-4bb6-8d57-75a4e29d3c7f.jpg</td>\n",
       "      <td>590_246_180_218;84_409_232_88;184_143_177_211;...</td>\n",
       "    </tr>\n",
       "    <tr>\n",
       "      <th>4</th>\n",
       "      <td>0008e472-76f6-414a-b334-32a9dcfc30b0.jpg</td>\n",
       "      <td>361_192_158_180;428_6_74_80;0_179_59_122;614_6...</td>\n",
       "    </tr>\n",
       "  </tbody>\n",
       "</table>\n",
       "</div>"
      ],
      "text/plain": [
       "                                       name  \\\n",
       "0  0000b1da-64b9-4f4b-9291-d75ddc00ea1d.jpg   \n",
       "1  0003be84-3f11-4ddf-b409-cd00a7b78ceb.jpg   \n",
       "2  000594ea-2b16-4e9a-a58e-f30d956986b4.jpg   \n",
       "3  0006a207-6339-4bb6-8d57-75a4e29d3c7f.jpg   \n",
       "4  0008e472-76f6-414a-b334-32a9dcfc30b0.jpg   \n",
       "\n",
       "                                          coordinate  \n",
       "0  210_241_172_188;140_6_72_50;196_0_57_18;495_23...  \n",
       "1  456_392_220_103;229_198_159_170;168_72_142_96;...  \n",
       "2  376_198_184_194;1_74_150_157;385_40_130_114;32...  \n",
       "3  590_246_180_218;84_409_232_88;184_143_177_211;...  \n",
       "4  361_192_158_180;428_6_74_80;0_179_59_122;614_6...  "
      ]
     },
     "execution_count": 196,
     "metadata": {},
     "output_type": "execute_result"
    }
   ],
   "source": [
    "info_0.head()"
   ]
  },
  {
   "cell_type": "code",
   "execution_count": null,
   "metadata": {
    "collapsed": true
   },
   "outputs": [],
   "source": []
  }
 ],
 "metadata": {
  "kernelspec": {
   "display_name": "Python 3",
   "language": "python",
   "name": "python3"
  },
  "language_info": {
   "codemirror_mode": {
    "name": "ipython",
    "version": 3
   },
   "file_extension": ".py",
   "mimetype": "text/x-python",
   "name": "python",
   "nbconvert_exporter": "python",
   "pygments_lexer": "ipython3",
   "version": "3.6.3"
  }
 },
 "nbformat": 4,
 "nbformat_minor": 2
}
