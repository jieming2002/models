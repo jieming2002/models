{
 "cells": [
  {
   "cell_type": "markdown",
   "metadata": {},
   "source": [
    "# 融合多个模型的预测结果\n",
    "通过 IOU 判断同一个 bbox"
   ]
  },
  {
   "cell_type": "code",
   "execution_count": 21,
   "metadata": {
    "collapsed": true
   },
   "outputs": [],
   "source": [
    "import pandas as pd\n",
    "import os\n",
    "import numpy as np\n",
    "import sys"
   ]
  },
  {
   "cell_type": "code",
   "execution_count": 22,
   "metadata": {
    "collapsed": true
   },
   "outputs": [],
   "source": [
    "path = '../data/summit/'\n",
    "# file_list = ['summit_frir2_027_41097', 'summit_frr101_028_29124'] #过滤bbox < 12 = merged_005 = 0.864368\n",
    "file_list = ['merged_005', 'summit_frir2_027_40343'] "
   ]
  },
  {
   "cell_type": "code",
   "execution_count": 23,
   "metadata": {
    "collapsed": true
   },
   "outputs": [],
   "source": [
    "def IOU(Reframe,GTframe):\n",
    "    \"\"\"\n",
    "    https://blog.csdn.net/eddy_zheng/article/details/52126641\n",
    "    自定义函数，计算两矩形 IOU，传入为均为矩形坐标和尺寸 [x,y, width, height]\n",
    "    \"\"\"\n",
    "    x1, y1, width1, height1 = Reframe\n",
    "    x2, y2, width2, height2 = GTframe\n",
    "\n",
    "    endx = max(x1 + width1, x2 + width2)\n",
    "    startx = min(x1, x2)\n",
    "#     计算重叠部分的宽度\n",
    "    width = width1 + width2 - (endx - startx)\n",
    "\n",
    "    endy = max(y1 + height1, y2 + height2)\n",
    "    starty = min(y1, y2)\n",
    "#     计算重叠部分的高度\n",
    "    height = height1 + height2 - (endy - starty)\n",
    "\n",
    "    if width <=0 or height <= 0:\n",
    "        ratio = 0 # 重叠率为 0 \n",
    "    else:\n",
    "        Area = width * height # 两矩形相交面积\n",
    "        Area1 = width1 * height1\n",
    "        Area2 = width2 * height2\n",
    "        ratio = Area/(Area1 + Area2 - Area)\n",
    "    \n",
    "    return ratio,Reframe,GTframe"
   ]
  },
  {
   "cell_type": "code",
   "execution_count": 24,
   "metadata": {
    "collapsed": true
   },
   "outputs": [],
   "source": [
    "def get_coor_from_str(coor_str):\n",
    "    bbox = coor_str.split('_')\n",
    "    b = [int(float(bbox[0])), int(float(bbox[1])), int(float(bbox[2])), int(float(bbox[3]))]\n",
    "    return b"
   ]
  },
  {
   "cell_type": "code",
   "execution_count": 25,
   "metadata": {
    "collapsed": true
   },
   "outputs": [],
   "source": [
    "def merge_bbox(bbox1, bbox2):\n",
    "    bbox = []\n",
    "    for i in range(len(bbox1)):\n",
    "        bbox.append(int(np.round((bbox1[i] + bbox2[i]) / 2)))\n",
    "    return bbox"
   ]
  },
  {
   "cell_type": "code",
   "execution_count": 26,
   "metadata": {
    "collapsed": true
   },
   "outputs": [],
   "source": [
    "def merge_coordinate(coordinate1, coordinate2):\n",
    "    list1 = coordinate1.split(';')\n",
    "#     print('list1 =', len(list1))\n",
    "    list2 = coordinate2.split(';')\n",
    "#     print('list2 =', len(list2))\n",
    "#     两个连起来，两两对比\n",
    "    corr_list = list1+list2\n",
    "    coor_num = len(corr_list)\n",
    "#     print('corr_list=', corr_list)\n",
    "    merged_list = []\n",
    "    result_list = []\n",
    "    out_str = ''\n",
    "    min_size = 14 # 12 最佳\n",
    "    for i in range(0, coor_num):\n",
    "        bbox1 = get_coor_from_str(corr_list[i])\n",
    "#         print('%s =%s'%(i, bbox1))\n",
    "        if i in merged_list:\n",
    "#             print('已合并 bbox1=', bbox1)\n",
    "            continue\n",
    "        \n",
    "        if bbox1[2] < min_size or bbox1[3] < min_size:\n",
    "#             print('忽略太小的 bbox1=', bbox1)\n",
    "            continue\n",
    "        bbox = bbox1 #默认没有相同的，取自身 \n",
    "        for j in range(i+1, coor_num):\n",
    "            bbox2 = get_coor_from_str(corr_list[j])\n",
    "#             print('%s =%s'%(j, bbox2))\n",
    "            if j in merged_list:\n",
    "#                 print('已合并 bbox2=', bbox2)\n",
    "                continue\n",
    "            iou = IOU(bbox1, bbox2)\n",
    "            if iou[0] > 0.6:\n",
    "#                 print('iou =', iou)\n",
    "#                 有相同的，则合并\n",
    "                bbox = merge_bbox(bbox1, bbox2)\n",
    "#                 标记为已合并\n",
    "                merged_list.append(j)\n",
    "#                 print('bbox =', bbox)\n",
    "        \n",
    "        if len(result_list) > 0:\n",
    "            out_str += ';'\n",
    "        \n",
    "        result_list.append(bbox)\n",
    "        out_str += '_'.join([str(bbox[0]), str(bbox[1]), str(bbox[2]), str(bbox[3])])\n",
    "#         break\n",
    "#     print('merged_list =', len(merged_list))\n",
    "#     print('result_list =', len(result_list))\n",
    "    return out_str"
   ]
  },
  {
   "cell_type": "code",
   "execution_count": 27,
   "metadata": {
    "collapsed": true
   },
   "outputs": [],
   "source": [
    "# info_1 = pd.read_csv('%s%s.csv'%(path, file_list[0]))\n",
    "# info_1.head()"
   ]
  },
  {
   "cell_type": "code",
   "execution_count": 28,
   "metadata": {
    "collapsed": true
   },
   "outputs": [],
   "source": [
    "# info_2 = pd.read_csv('%s%s.csv'%(path, file_list[1]))\n",
    "# info_2.head()"
   ]
  },
  {
   "cell_type": "code",
   "execution_count": 29,
   "metadata": {
    "collapsed": true
   },
   "outputs": [],
   "source": [
    "def merge_info(info_1, info_2):\n",
    "    image_num = len(info_1)\n",
    "    result_df = info_1.copy()\n",
    "    for i in range(0, image_num):\n",
    "        info = info_1.iloc[i:i+1]\n",
    "        name = info.name.values[0]\n",
    "#         print('name =', name)\n",
    "        coordinate = info.coordinate.values[0]\n",
    "        info2 = info_2.iloc[i:i+1]\n",
    "        coordinate2 = info2.coordinate.values[0]\n",
    "#         print('coordinate2 =', coordinate2)\n",
    "        \n",
    "        result_row = result_df.iloc[i:i+1]\n",
    "        if not isinstance(coordinate, str):\n",
    "            coordinate_merged = coordinate2\n",
    "        elif not isinstance(coordinate2, str):\n",
    "            coordinate_merged = coordinate\n",
    "        else:\n",
    "            coordinate_merged = merge_coordinate(coordinate, coordinate2)\n",
    "#         print('coordinate_merged =', coordinate_merged)\n",
    "        result_row.coordinate.values[0] = coordinate_merged\n",
    "        sys.stdout.write('\\r>> i = %s / %s' % ((i+1),image_num))\n",
    "        sys.stdout.flush()\n",
    "#         if (i > 1):\n",
    "#             break\n",
    "    sys.stdout.write('\\n')\n",
    "    sys.stdout.flush()\n",
    "    return result_df\n",
    "\n",
    "# merge_info(info_1, info_2)"
   ]
  },
  {
   "cell_type": "code",
   "execution_count": 30,
   "metadata": {},
   "outputs": [
    {
     "name": "stdout",
     "output_type": "stream",
     "text": [
      ">> i = 5000 / 5000\n"
     ]
    }
   ],
   "source": [
    "for i in range(0, len(file_list)):\n",
    "    if i == 0:\n",
    "        info_0 = pd.read_csv('%s%s.csv'%(path, file_list[i]))\n",
    "    else:\n",
    "        info_other = pd.read_csv('%s%s.csv'%(path, file_list[i]))\n",
    "        info_0 = merge_info(info_0, info_other)\n",
    "info_0.to_csv('%s%s.csv'%(path, 'merged'), index=False)"
   ]
  },
  {
   "cell_type": "code",
   "execution_count": null,
   "metadata": {
    "collapsed": true
   },
   "outputs": [],
   "source": []
  },
  {
   "cell_type": "code",
   "execution_count": null,
   "metadata": {
    "collapsed": true
   },
   "outputs": [],
   "source": []
  },
  {
   "cell_type": "code",
   "execution_count": null,
   "metadata": {
    "collapsed": true
   },
   "outputs": [],
   "source": []
  }
 ],
 "metadata": {
  "kernelspec": {
   "display_name": "Python 3",
   "language": "python",
   "name": "python3"
  },
  "language_info": {
   "codemirror_mode": {
    "name": "ipython",
    "version": 3
   },
   "file_extension": ".py",
   "mimetype": "text/x-python",
   "name": "python",
   "nbconvert_exporter": "python",
   "pygments_lexer": "ipython3",
   "version": "3.6.3"
  }
 },
 "nbformat": 4,
 "nbformat_minor": 2
}
