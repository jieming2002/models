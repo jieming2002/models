{
 "cells": [
  {
   "cell_type": "markdown",
   "metadata": {},
   "source": [
    "## 生成 tfRecord 文件\n",
    "这个文件是在 win7 环境进行的工作。临时。\n",
    "- 一般环境在 Ubuntu 虚拟机"
   ]
  },
  {
   "cell_type": "code",
   "execution_count": 1,
   "metadata": {},
   "outputs": [
    {
     "name": "stderr",
     "output_type": "stream",
     "text": [
      "d:\\ProgramData\\Anaconda3\\lib\\site-packages\\h5py\\__init__.py:34: FutureWarning: Conversion of the second argument of issubdtype from `float` to `np.floating` is deprecated. In future, it will be treated as `np.float64 == np.dtype(float).type`.\n",
      "  from ._conv import register_converters as _register_converters\n"
     ]
    }
   ],
   "source": [
    "import hashlib\n",
    "import io\n",
    "import logging\n",
    "import os\n",
    "import sys\n",
    "import re\n",
    "from sklearn.model_selection import train_test_split\n",
    "\n",
    "import numpy as np\n",
    "import pandas as pd\n",
    "import PIL.Image\n",
    "import tensorflow as tf\n",
    "\n",
    "from object_detection.utils import dataset_util"
   ]
  },
  {
   "cell_type": "code",
   "execution_count": 2,
   "metadata": {
    "collapsed": true
   },
   "outputs": [],
   "source": [
    "data_dir = '../data/'\n",
    "# group = 'train_b_1w'\n",
    "# group = 'train_b_aug_1w'\n",
    "group = 'train_b_1w_aug'\n",
    "output_dir = '../data/new/'\n",
    "label_map_path = '../../data/tinymind/race003-ehualu-object-detection/labels_items.txt'"
   ]
  },
  {
   "cell_type": "code",
   "execution_count": 3,
   "metadata": {
    "collapsed": true
   },
   "outputs": [],
   "source": [
    "def dict_to_tf_example(data, label_map_dict, image_subdirectory):\n",
    "  filename, annotations = data\n",
    "  img_path = os.path.join(image_subdirectory, filename)\n",
    "  # print('img_path=', img_path)\n",
    "  with tf.gfile.GFile(img_path, 'rb') as fid:\n",
    "    encoded_jpg = fid.read()\n",
    "  \n",
    "  encoded_jpg_io = io.BytesIO(encoded_jpg)\n",
    "  image = PIL.Image.open(encoded_jpg_io)\n",
    "#   print('image.format=', image.format)\n",
    "  if image.format != 'JPEG':\n",
    "    raise ValueError('Image format not JPEG')\n",
    "  key = hashlib.sha256(encoded_jpg).hexdigest()\n",
    "  width, height = image.size\n",
    "\n",
    "  xmins = []\n",
    "  ymins = []\n",
    "  xmaxs = []\n",
    "  ymaxs = []\n",
    "  classes = []\n",
    "  classes_text = []\n",
    "  truncated = []\n",
    "  poses = []\n",
    "  difficult_obj = []\n",
    "\n",
    "  annotation_list = annotations.split(';')\n",
    "  for obj in annotation_list:\n",
    "    difficult_obj.append(0)\n",
    "    # x, y, width, height\n",
    "    bbox = obj.split('_')\n",
    "#     print('bbox=', bbox)\n",
    "#     print('len(bbox)=', len(bbox))\n",
    "    if not len(bbox) == 4:\n",
    "        continue\n",
    "    \n",
    "    bbox = [int(float(bbox[0])), int(float(bbox[1])), int(float(bbox[2])), int(float(bbox[3]))]\n",
    "    # print('bbox =', bbox)\n",
    "    \n",
    "    bbox[2] += bbox[0]\n",
    "    bbox[3] += bbox[1]\n",
    "    # xmin, ymin, xmax, ymax\n",
    "    xmin, ymin, xmax, ymax = bbox\n",
    "\n",
    "    xmins.append(xmin / width)\n",
    "    ymins.append(ymin / height)\n",
    "    xmaxs.append(xmax / width)\n",
    "    ymaxs.append(ymax / height)\n",
    "\n",
    "    classes_text.append('vehicle'.encode('utf8'))\n",
    "    classes.append(1)\n",
    "    truncated.append(0)\n",
    "    poses.append('pose'.encode('utf8'))\n",
    "    \n",
    "  feature_dict = {\n",
    "      'image/height': dataset_util.int64_feature(height),\n",
    "      'image/width': dataset_util.int64_feature(width),\n",
    "      'image/filename': dataset_util.bytes_feature(filename.encode('utf8')),\n",
    "      'image/source_id': dataset_util.bytes_feature(filename.encode('utf8')),\n",
    "      'image/key/sha256': dataset_util.bytes_feature(key.encode('utf8')),\n",
    "      'image/encoded': dataset_util.bytes_feature(encoded_jpg),\n",
    "      'image/format': dataset_util.bytes_feature('jpeg'.encode('utf8')),\n",
    "      'image/object/bbox/xmin': dataset_util.float_list_feature(xmins),\n",
    "      'image/object/bbox/xmax': dataset_util.float_list_feature(xmaxs),\n",
    "      'image/object/bbox/ymin': dataset_util.float_list_feature(ymins),\n",
    "      'image/object/bbox/ymax': dataset_util.float_list_feature(ymaxs),\n",
    "      'image/object/class/text': dataset_util.bytes_list_feature(classes_text),\n",
    "      'image/object/class/label': dataset_util.int64_list_feature(classes),\n",
    "      'image/object/difficult': dataset_util.int64_list_feature(difficult_obj),\n",
    "      'image/object/truncated': dataset_util.int64_list_feature(truncated),\n",
    "      'image/object/view': dataset_util.bytes_list_feature(poses),\n",
    "  }\n",
    "\n",
    "  # print('feature_dict =', feature_dict)\n",
    "  example = tf.train.Example(features=tf.train.Features(feature=feature_dict))\n",
    "  return example"
   ]
  },
  {
   "cell_type": "code",
   "execution_count": 4,
   "metadata": {
    "collapsed": true
   },
   "outputs": [],
   "source": [
    "def create_tf_record(output_filename, label_map_dict, image_dir, examples):\n",
    "    writer = tf.python_io.TFRecordWriter(output_filename)\n",
    "    total = examples.shape[0]\n",
    "    for i in range(0, total):\n",
    "        info = examples.iloc[i:i+1]\n",
    "        # print('info =', info)\n",
    "        name = info.name.values[0]\n",
    "#         print('%s = %s' % (i, name))\n",
    "        coordinate = info.coordinate.values[0]\n",
    "#         print('coordinate =', coordinate)\n",
    "        sys.stdout.write('\\r>> On image %s/%s %s' % (i, total, name))\n",
    "        sys.stdout.flush()\n",
    "        # skip the rows contain no target  \n",
    "        if len(coordinate) < 5:  \n",
    "            print('%s==%s no coordinate' % (i,name))\n",
    "            continue\n",
    "#         try:\n",
    "        tf_example = dict_to_tf_example([name, coordinate], label_map_dict, image_dir)\n",
    "        writer.write(tf_example.SerializeToString())\n",
    "#         except ValueError:\n",
    "#             logging.warning('Invalid example: %s, ignoring.', name)\n",
    "        # break\n",
    "    writer.close()\n",
    "    sys.stdout.write('\\n')\n",
    "    sys.stdout.flush()"
   ]
  },
  {
   "cell_type": "code",
   "execution_count": 5,
   "metadata": {},
   "outputs": [
    {
     "name": "stdout",
     "output_type": "stream",
     "text": [
      ">> On image 228/41387 e657f17c-5f07-4272-90db-75f17264117d.jpgb.jpg228==e657f17c-5f07-4272-90db-75f17264117d.jpg no coordinate\n",
      ">> On image 729/41387 aug2_b9b78e5f-7edc-4747-952d-b5889983d7c3.jpg729==aug2_b9b78e5f-7edc-4747-952d-b5889983d7c3.jpg no coordinate\n",
      ">> On image 6201/41387 aug2_963c2ab5-70a5-4dd4-af06-6ad3879fabb9.jpg6201==aug2_963c2ab5-70a5-4dd4-af06-6ad3879fabb9.jpg no coordinate\n",
      ">> On image 8908/41387 e7298717-c6e7-4ea7-96cc-4d287908a956.jpge.jpg8908==e7298717-c6e7-4ea7-96cc-4d287908a956.jpg no coordinate\n",
      ">> On image 9416/41387 f99c638b-f506-4841-b1b3-7e0fac27ce0a.jpg9.jpg9416==f99c638b-f506-4841-b1b3-7e0fac27ce0a.jpg no coordinate\n",
      ">> On image 14049/41387 aug2_f99c638b-f506-4841-b1b3-7e0fac27ce0a.jpg14049==aug2_f99c638b-f506-4841-b1b3-7e0fac27ce0a.jpg no coordinate\n",
      ">> On image 15566/41387 aug1_e657f17c-5f07-4272-90db-75f17264117d.jpg15566==aug1_e657f17c-5f07-4272-90db-75f17264117d.jpg no coordinate\n",
      ">> On image 17011/41387 aug2_e7298717-c6e7-4ea7-96cc-4d287908a956.jpg17011==aug2_e7298717-c6e7-4ea7-96cc-4d287908a956.jpg no coordinate\n",
      ">> On image 17922/41387 aug1_84ea119d-c7d1-47b8-8d45-8a849b0f2fdd.jpg17922==aug1_84ea119d-c7d1-47b8-8d45-8a849b0f2fdd.jpg no coordinate\n",
      ">> On image 18669/41387 aug1_963c2ab5-70a5-4dd4-af06-6ad3879fabb9.jpg18669==aug1_963c2ab5-70a5-4dd4-af06-6ad3879fabb9.jpg no coordinate\n",
      ">> On image 18808/41387 aug2_e657f17c-5f07-4272-90db-75f17264117d.jpg18808==aug2_e657f17c-5f07-4272-90db-75f17264117d.jpg no coordinate\n",
      ">> On image 19006/41387 aug2_136f6ba6-7ed5-4ae4-9b7a-96f81209234e.jpg19006==aug2_136f6ba6-7ed5-4ae4-9b7a-96f81209234e.jpg no coordinate\n",
      ">> On image 21156/41387 963c2ab5-70a5-4dd4-af06-6ad3879fabb9.jpge.jpg21156==963c2ab5-70a5-4dd4-af06-6ad3879fabb9.jpg no coordinate\n",
      ">> On image 24808/41387 aug2_84ea119d-c7d1-47b8-8d45-8a849b0f2fdd.jpg24808==aug2_84ea119d-c7d1-47b8-8d45-8a849b0f2fdd.jpg no coordinate\n",
      ">> On image 26307/41387 aug1_4c23d9a6-d6f9-49d5-9c56-edc608991fb8.jpg26307==aug1_4c23d9a6-d6f9-49d5-9c56-edc608991fb8.jpg no coordinate\n",
      ">> On image 32020/41387 aug1_b9b78e5f-7edc-4747-952d-b5889983d7c3.jpg32020==aug1_b9b78e5f-7edc-4747-952d-b5889983d7c3.jpg no coordinate\n",
      ">> On image 32460/41387 136f6ba6-7ed5-4ae4-9b7a-96f81209234e.jpg2.jpg32460==136f6ba6-7ed5-4ae4-9b7a-96f81209234e.jpg no coordinate\n",
      ">> On image 34328/41387 aug2_4c23d9a6-d6f9-49d5-9c56-edc608991fb8.jpg34328==aug2_4c23d9a6-d6f9-49d5-9c56-edc608991fb8.jpg no coordinate\n",
      ">> On image 34560/41387 84ea119d-c7d1-47b8-8d45-8a849b0f2fdd.jpge.jpg34560==84ea119d-c7d1-47b8-8d45-8a849b0f2fdd.jpg no coordinate\n",
      ">> On image 34645/41387 aug1_e7298717-c6e7-4ea7-96cc-4d287908a956.jpg34645==aug1_e7298717-c6e7-4ea7-96cc-4d287908a956.jpg no coordinate\n",
      ">> On image 34703/41387 4c23d9a6-d6f9-49d5-9c56-edc608991fb8.jpgb.jpg34703==4c23d9a6-d6f9-49d5-9c56-edc608991fb8.jpg no coordinate\n",
      ">> On image 37477/41387 b9b78e5f-7edc-4747-952d-b5889983d7c3.jpge.jpg37477==b9b78e5f-7edc-4747-952d-b5889983d7c3.jpg no coordinate\n",
      ">> On image 37714/41387 aug1_136f6ba6-7ed5-4ae4-9b7a-96f81209234e.jpg37714==aug1_136f6ba6-7ed5-4ae4-9b7a-96f81209234e.jpg no coordinate\n",
      ">> On image 39971/41387 aug1_f99c638b-f506-4841-b1b3-7e0fac27ce0a.jpg39971==aug1_f99c638b-f506-4841-b1b3-7e0fac27ce0a.jpg no coordinate\n",
      ">> On image 41386/41387 aug1_c6dc28aa-4158-4c5d-9cbb-8687f751ab78.jpg\n",
      ">> On image 418/419 ce058726-0467-4808-be15-a9eeb152acc5.jpgf.jpg\n"
     ]
    }
   ],
   "source": [
    "# label_map_dict = label_map_util.get_label_map_dict(FLAGS.label_map_path)\n",
    "label_map_dict = {}\n",
    "logging.info('Reading from dataset.')\n",
    "image_dir = os.path.join(data_dir, group)\n",
    "annotations_path = os.path.join(data_dir, '%s.csv' % group)\n",
    "annotations_info = pd.read_csv(annotations_path)\n",
    "\n",
    "# 60000 * 0.01 = 60\n",
    "train_examples, val_examples = train_test_split(annotations_info, test_size=0.01, random_state=42)\n",
    "# print('num_examples=%s  num_train=%s' % (train_examples.shape, val_examples.shape))\n",
    "logging.info('%s training and %s validation examples.', train_examples.shape, val_examples.shape)\n",
    "\n",
    "train_output_path = os.path.join(output_dir, '%s_train.record'%group)\n",
    "val_output_path = os.path.join(output_dir, '%s_val.record'%group)\n",
    "  \n",
    "create_tf_record(train_output_path, label_map_dict, image_dir, train_examples)\n",
    "create_tf_record(val_output_path, label_map_dict, image_dir, val_examples)"
   ]
  },
  {
   "cell_type": "code",
   "execution_count": null,
   "metadata": {
    "collapsed": true
   },
   "outputs": [],
   "source": []
  }
 ],
 "metadata": {
  "kernelspec": {
   "display_name": "Python 3",
   "language": "python",
   "name": "python3"
  },
  "language_info": {
   "codemirror_mode": {
    "name": "ipython",
    "version": 3
   },
   "file_extension": ".py",
   "mimetype": "text/x-python",
   "name": "python",
   "nbconvert_exporter": "python",
   "pygments_lexer": "ipython3",
   "version": "3.6.3"
  }
 },
 "nbformat": 4,
 "nbformat_minor": 2
}
